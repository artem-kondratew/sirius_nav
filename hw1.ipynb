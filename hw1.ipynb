{
 "cells": [
  {
   "cell_type": "code",
   "execution_count": 1,
   "id": "4a687423-5b19-4f77-9d4d-bbb083eda923",
   "metadata": {},
   "outputs": [],
   "source": [
    "import matplotlib.pyplot as plt\n",
    "import numpy as np"
   ]
  },
  {
   "cell_type": "code",
   "execution_count": 2,
   "id": "80b183dd-ece9-46dc-8cec-3f2f95524d63",
   "metadata": {},
   "outputs": [
    {
     "data": {
      "text/plain": [
       "(361,)"
      ]
     },
     "execution_count": 2,
     "metadata": {},
     "output_type": "execute_result"
    }
   ],
   "source": [
    "scan = np.loadtxt('laserscan.dat')\n",
    "scan.shape"
   ]
  },
  {
   "cell_type": "code",
   "execution_count": 3,
   "id": "75e2b768-e234-4822-9fa1-d74403dd1421",
   "metadata": {},
   "outputs": [
    {
     "data": {
      "text/plain": [
       "array([[1.        ],\n",
       "       [0.5       ],\n",
       "       [0.78539816]])"
      ]
     },
     "execution_count": 3,
     "metadata": {},
     "output_type": "execute_result"
    }
   ],
   "source": [
    "robot_coords = np.array([[1, 0.5, np.pi/4]]).reshape(-1, 1)\n",
    "robot_coords"
   ]
  },
  {
   "cell_type": "code",
   "execution_count": 4,
   "id": "afd44c26-1cb1-42c6-a3f9-1abe97f3dd6a",
   "metadata": {},
   "outputs": [
    {
     "data": {
      "text/plain": [
       "array([[0.2       ],\n",
       "       [0.        ],\n",
       "       [3.14159265]])"
      ]
     },
     "execution_count": 4,
     "metadata": {},
     "output_type": "execute_result"
    }
   ],
   "source": [
    "sensor_coords = np.array([[0.2, 0, np.pi]]).reshape(-1, 1)\n",
    "sensor_coords"
   ]
  },
  {
   "cell_type": "code",
   "execution_count": 5,
   "id": "8f3da329-f744-48bc-bf27-89ad070562dc",
   "metadata": {},
   "outputs": [
    {
     "data": {
      "text/plain": [
       "(361,)"
      ]
     },
     "execution_count": 5,
     "metadata": {},
     "output_type": "execute_result"
    }
   ],
   "source": [
    "a0 = -np.pi/2\n",
    "a1 = +np.pi/2\n",
    "\n",
    "angle = np.linspace(a0, a1, len(scan), endpoint=True)\n",
    "angle.shape"
   ]
  },
  {
   "cell_type": "code",
   "execution_count": 6,
   "id": "b53eda24-3e21-4c27-9bc3-97e1d72807e1",
   "metadata": {},
   "outputs": [
    {
     "data": {
      "text/plain": [
       "(3, 361)"
      ]
     },
     "execution_count": 6,
     "metadata": {},
     "output_type": "execute_result"
    }
   ],
   "source": [
    "map = np.vstack([scan * np.cos(angle), scan * np.sin(angle), np.ones_like(scan)])\n",
    "map.shape"
   ]
  },
  {
   "cell_type": "code",
   "execution_count": 7,
   "id": "5a9115e0-12e4-4045-8d24-c08a4098a0a5",
   "metadata": {},
   "outputs": [
    {
     "data": {
      "image/png": "[encoded data removed]",
      "text/plain": [
       "<Figure size 600x600 with 1 Axes>"
      ]
     },
     "metadata": {},
     "output_type": "display_data"
    }
   ],
   "source": [
    "plt.figure(figsize=(6, 6))\n",
    "plt.scatter(map[0, :], map[1, :], color='r', s=5, label='local_laserscan_map')\n",
    "plt.scatter(0, 0, color='b', s=10, label='sensor')\n",
    "plt.legend()\n",
    "plt.axis('equal')\n",
    "plt.xlabel(r'$x$')\n",
    "plt.ylabel(r'$y$')\n",
    "plt.show()"
   ]
  },
  {
   "cell_type": "code",
   "execution_count": 8,
   "id": "ce95b9f2-ed3b-4e9c-abee-b295380b45fc",
   "metadata": {},
   "outputs": [
    {
     "data": {
      "text/plain": [
       "(3, 361)"
      ]
     },
     "execution_count": 8,
     "metadata": {},
     "output_type": "execute_result"
    }
   ],
   "source": [
    "map.shape"
   ]
  },
  {
   "cell_type": "code",
   "execution_count": 9,
   "id": "db968e8a-3590-4c48-836a-89f231afc3e4",
   "metadata": {},
   "outputs": [
    {
     "data": {
      "text/plain": [
       "(3, 361)"
      ]
     },
     "execution_count": 9,
     "metadata": {},
     "output_type": "execute_result"
    }
   ],
   "source": [
    "def create_T(coords):\n",
    "    x, y, theta = coords.reshape(-1)\n",
    "\n",
    "    return np.array([\n",
    "        [np.cos(theta), -np.sin(theta), x],\n",
    "        [np.sin(theta), np.cos(theta), y],\n",
    "        [0, 0, 1],\n",
    "    ])\n",
    "\n",
    "T_world_robot = create_T(robot_coords)\n",
    "T_robot_sensor = create_T(sensor_coords)\n",
    "\n",
    "global_map = T_world_robot @ T_robot_sensor @ map\n",
    "global_map.shape"
   ]
  },
  {
   "cell_type": "code",
   "execution_count": 10,
   "id": "02dd9872-a81e-420e-af8c-7e65e4cf07a4",
   "metadata": {},
   "outputs": [
    {
     "data": {
      "text/plain": [
       "array([[1.        ],\n",
       "       [0.5       ],\n",
       "       [0.78539816]])"
      ]
     },
     "execution_count": 10,
     "metadata": {},
     "output_type": "execute_result"
    }
   ],
   "source": [
    "robot_coords"
   ]
  },
  {
   "cell_type": "code",
   "execution_count": 11,
   "id": "631ad1df-efdf-4a1a-bef9-0514ab901192",
   "metadata": {},
   "outputs": [
    {
     "data": {
      "text/plain": [
       "array([[1.14142136],\n",
       "       [0.64142136],\n",
       "       [1.        ]])"
      ]
     },
     "execution_count": 11,
     "metadata": {},
     "output_type": "execute_result"
    }
   ],
   "source": [
    "global_sensor_coords = T_world_robot @ np.array([*sensor_coords[:2, 0], 1]).reshape(-1, 1)\n",
    "global_sensor_coords"
   ]
  },
  {
   "cell_type": "code",
   "execution_count": 12,
   "id": "92d33b6f-8e6c-4e27-8b91-42c689f4ddee",
   "metadata": {},
   "outputs": [
    {
     "data": {
      "image/png": "[encoded data removed]",
      "text/plain": [
       "<Figure size 600x600 with 1 Axes>"
      ]
     },
     "metadata": {},
     "output_type": "display_data"
    }
   ],
   "source": [
    "plt.figure(figsize=(6, 6))\n",
    "plt.scatter(global_map[0, :], global_map[1, :], color='r', s=5, label='global_laserscan_map')\n",
    "plt.scatter(robot_coords[0, 0], robot_coords[1, 0], color='g', s=10, label='robot')\n",
    "plt.scatter(global_sensor_coords[0, 0], global_sensor_coords[1, 0], color='b', s=10, label='sensor')\n",
    "plt.legend()\n",
    "plt.axis('equal')\n",
    "plt.xlabel(r'$x$')\n",
    "plt.ylabel(r'$y$')\n",
    "plt.tight_layout()\n",
    "plt.show()"
   ]
  },
  {
   "cell_type": "code",
   "execution_count": null,
   "id": "1317e609-25f7-42cd-9ac1-b1b35c71fc0e",
   "metadata": {},
   "outputs": [],
   "source": []
  }
 ],
 "metadata": {
  "kernelspec": {
   "display_name": "Python 3 (ipykernel)",
   "language": "python",
   "name": "python3"
  },
  "language_info": {
   "codemirror_mode": {
    "name": "ipython",
    "version": 3
   },
   "file_extension": ".py",
   "mimetype": "text/x-python",
   "name": "python",
   "nbconvert_exporter": "python",
   "pygments_lexer": "ipython3",
   "version": "3.11.13"
  }
 },
 "nbformat": 4,
 "nbformat_minor": 5
}
