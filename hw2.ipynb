{
 "cells": [
  {
   "cell_type": "code",
   "execution_count": 1,
   "id": "b13966e7-6a46-4354-bd34-52a7ffb615ec",
   "metadata": {},
   "outputs": [],
   "source": [
    "import matplotlib.pyplot as plt\n",
    "import numpy as np"
   ]
  },
  {
   "cell_type": "code",
   "execution_count": 2,
   "id": "85741f7e-17f0-4782-a71b-4f29534b4a62",
   "metadata": {},
   "outputs": [],
   "source": [
    "l = 0.5\n",
    "\n",
    "\n",
    "def diffdrive(x, y, theta, v_l, v_r, t, l) :\n",
    "    x_n, y_n, theta_n = x, y, theta\n",
    "    \n",
    "    n = 50\n",
    "    dt = 1 / n\n",
    "    num_steps = int(n * t)\n",
    "    \n",
    "    for i in range(num_steps):\n",
    "        x_n += 0.5 * (v_l + v_r) * np.cos(theta_n) * dt\n",
    "        y_n += 0.5 * (v_l + v_r) * np.sin(theta_n) * dt\n",
    "        theta_n += (v_r - v_l) / l * dt\n",
    "        \n",
    "    return x_n, y_n, theta_n\n",
    "\n",
    "\n",
    "T = 1\n",
    "R = 1\n",
    "\n",
    "v = 2*np.pi*R / T\n",
    "w = v / R\n",
    "\n",
    "v_l = w * (R - 0.5 * l)\n",
    "v_r = w * (R + 0.5 * l)\n",
    "\n",
    "res = diffdrive(0, 0, np.pi/2, v_l, v_r, T, l)\n",
    "assert res[0] < 1e-10 and res[1] < 1e-10 and abs(2.5*np.pi - res[2]) < 1e-10"
   ]
  },
  {
   "cell_type": "code",
   "execution_count": 3,
   "id": "6478fad3-c39f-4411-b82f-0f13cb47bd37",
   "metadata": {},
   "outputs": [
    {
     "data": {
      "text/plain": [
       "array([[1.5       ],\n",
       "       [2.        ],\n",
       "       [1.57079633]])"
      ]
     },
     "execution_count": 3,
     "metadata": {},
     "output_type": "execute_result"
    }
   ],
   "source": [
    "x0 = np.array([1.5, 2, np.pi/2]).reshape(-1, 1)\n",
    "x0"
   ]
  },
  {
   "cell_type": "code",
   "execution_count": 4,
   "id": "71acbfca-05ed-4608-8349-593be9c85f6f",
   "metadata": {},
   "outputs": [],
   "source": [
    "c1 = np.array([0.3, 0.3, 3]).reshape(-1, 1)\n",
    "c2 = np.array([0.1, -0.1, 1]).reshape(-1, 1)\n",
    "c3 = np.array([0.2, 0.0, 2]).reshape(-1, 1)"
   ]
  },
  {
   "cell_type": "code",
   "execution_count": 5,
   "id": "87bb19c9-6e5d-4ff9-9495-cd59373fde18",
   "metadata": {},
   "outputs": [
    {
     "data": {
      "text/plain": [
       "[array([[1.5       ],\n",
       "        [2.        ],\n",
       "        [1.57079633]]),\n",
       " array([[1.5       ],\n",
       "        [2.9       ],\n",
       "        [1.57079633]]),\n",
       " array([[1.5       ],\n",
       "        [2.9       ],\n",
       "        [1.17079633]]),\n",
       " array([[1.63913244],\n",
       "        [3.03621317],\n",
       "        [0.37079633]])]"
      ]
     },
     "execution_count": 5,
     "metadata": {},
     "output_type": "execute_result"
    }
   ],
   "source": [
    "poses = [x0]\n",
    "\n",
    "for c in (c1, c2, c3):\n",
    "    x, y, theta = poses[-1].flatten()\n",
    "    v_l, v_r, t = c.flatten()\n",
    "    x_n, y_n, theta_n = diffdrive(x, y, theta, v_l, v_r, t, l)\n",
    "    poses.append(np.array([x_n, y_n, theta_n]).reshape(-1, 1))\n",
    "\n",
    "poses"
   ]
  },
  {
   "cell_type": "code",
   "execution_count": 6,
   "id": "52f6051b-c4f4-4321-9d1d-bc568ed55eb1",
   "metadata": {},
   "outputs": [],
   "source": [
    "from scipy.spatial.transform import Rotation\n",
    "\n",
    "def Rz(angle):\n",
    "    return Rotation.from_euler('xyz', [0, 0, angle]).as_matrix()[:2, :2]\n",
    "\n",
    "colors = ['b', 'g', 'r', 'orange']\n",
    "\n",
    "def draw_arrow(pose, idx):\n",
    "    x, y, theta = pose.flatten()\n",
    "    arrow = 0.1 * np.array([1, 0]).reshape(-1, 1)\n",
    "    R = Rz(theta)\n",
    "    dx, dy = (R @ arrow).flatten()\n",
    "    plt.arrow(x, y, dx, dy, head_width=0.01, head_length=0.04, fc=colors[i], ec=colors[i], label=f'pose_{i}')\n",
    "    "
   ]
  },
  {
   "cell_type": "code",
   "execution_count": 7,
   "id": "355e2d3a-b26c-46df-a481-a67e3fbcc5de",
   "metadata": {},
   "outputs": [
    {
     "data": {
      "image/png": "[encoded data removed]",
      "text/plain": [
       "<Figure size 640x480 with 1 Axes>"
      ]
     },
     "metadata": {},
     "output_type": "display_data"
    }
   ],
   "source": [
    "plt.axis('equal')\n",
    "\n",
    "for i, pose in enumerate(poses):\n",
    "    draw_arrow(pose, i)\n",
    "\n",
    "plt.legend()\n",
    "plt.tight_layout()\n",
    "plt.show()"
   ]
  },
  {
   "cell_type": "code",
   "execution_count": null,
   "id": "a31953e8-367d-48ba-b6f2-ed90c7fde301",
   "metadata": {},
   "outputs": [],
   "source": []
  }
 ],
 "metadata": {
  "kernelspec": {
   "display_name": "Python 3 (ipykernel)",
   "language": "python",
   "name": "python3"
  },
  "language_info": {
   "codemirror_mode": {
    "name": "ipython",
    "version": 3
   },
   "file_extension": ".py",
   "mimetype": "text/x-python",
   "name": "python",
   "nbconvert_exporter": "python",
   "pygments_lexer": "ipython3",
   "version": "3.11.13"
  }
 },
 "nbformat": 4,
 "nbformat_minor": 5
}
