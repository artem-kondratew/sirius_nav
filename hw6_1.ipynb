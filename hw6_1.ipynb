{
 "cells": [
  {
   "cell_type": "code",
   "execution_count": 8,
   "id": "c8c5f613-78e2-4ffe-a2b4-a6abff2403dc",
   "metadata": {
    "execution": {
     "iopub.execute_input": "2025-09-25T15:48:45.694915Z",
     "iopub.status.busy": "2025-09-25T15:48:45.694781Z",
     "iopub.status.idle": "2025-09-25T15:48:45.696455Z",
     "shell.execute_reply": "2025-09-25T15:48:45.696245Z",
     "shell.execute_reply.started": "2025-09-25T15:48:45.694906Z"
    }
   },
   "outputs": [],
   "source": [
    "import matplotlib.pyplot as plt\n",
    "import numpy as np"
   ]
  },
  {
   "cell_type": "markdown",
   "id": "20a0e394-36d5-4ba4-acf7-66f6a6b8d808",
   "metadata": {},
   "source": [
    "## Task 1"
   ]
  },
  {
   "cell_type": "code",
   "execution_count": 54,
   "id": "358ffda5-1e46-4eae-b7ee-bec5d3c8b5ce",
   "metadata": {
    "execution": {
     "iopub.execute_input": "2025-09-25T17:34:48.562410Z",
     "iopub.status.busy": "2025-09-25T17:34:48.562279Z",
     "iopub.status.idle": "2025-09-25T17:34:48.566517Z",
     "shell.execute_reply": "2025-09-25T17:34:48.566295Z",
     "shell.execute_reply.started": "2025-09-25T17:34:48.562401Z"
    }
   },
   "outputs": [
    {
     "data": {
      "text/plain": [
       "array([0.00000000e+00, 0.00000000e+00, 0.00000000e+00, 5.96046448e-08,\n",
       "       1.43051147e-06, 1.64508820e-05, 1.20639801e-04, 6.33358955e-04,\n",
       "       2.53343582e-03, 8.02254677e-03, 2.06294060e-02, 4.38374877e-02,\n",
       "       7.79333115e-02, 1.20655298e-01, 1.69416904e-01, 2.05022573e-01,\n",
       "       1.88285828e-01, 1.15448713e-01, 4.10790443e-02, 6.36351109e-03])"
      ]
     },
     "execution_count": 54,
     "metadata": {},
     "output_type": "execute_result"
    }
   ],
   "source": [
    "bel = np.zeros(20)\n",
    "state = 9\n",
    "bel[state] = 1\n",
    "\n",
    "for i in range(9):\n",
    "    new_bel = np.zeros_like(bel)\n",
    "    for i, b in enumerate(bel):\n",
    "        if i == len(bel) - 1:\n",
    "            new_bel[-1] += b\n",
    "            continue\n",
    "        if i == len(bel) - 2:\n",
    "            new_bel[-1] += b * 0.75\n",
    "            new_bel[-2] += b * 0.25\n",
    "            continue\n",
    "        new_bel[i] += b * 0.25\n",
    "        new_bel[i+1] += b * 0.50\n",
    "        new_bel[i+2] += b * 0.25\n",
    "    p_z_x = np.ones_like(bel)\n",
    "    bel = new_bel * p_z_x / np.sum(new_bel)\n",
    "\n",
    "for i in range(3):\n",
    "    new_bel = np.zeros_like(bel)\n",
    "    for i, b in enumerate(bel):\n",
    "        if i == 0:\n",
    "            new_bel[0] += b\n",
    "            continue\n",
    "        if i == 1:\n",
    "            new_bel[0] += b * 0.75\n",
    "            new_bel[1] += b * 0.25\n",
    "            continue\n",
    "        new_bel[i] += b * 0.25\n",
    "        new_bel[i-1] += b * 0.50\n",
    "        new_bel[i-2] += b * 0.25\n",
    "    bel = new_bel / np.sum(new_bel)\n",
    "\n",
    "bel"
   ]
  },
  {
   "cell_type": "code",
   "execution_count": 51,
   "id": "29ebf9e6-737b-470a-8824-d2ef30efdec3",
   "metadata": {
    "execution": {
     "iopub.execute_input": "2025-09-25T17:34:43.984920Z",
     "iopub.status.busy": "2025-09-25T17:34:43.984793Z",
     "iopub.status.idle": "2025-09-25T17:34:44.034164Z",
     "shell.execute_reply": "2025-09-25T17:34:44.033879Z",
     "shell.execute_reply.started": "2025-09-25T17:34:43.984912Z"
    }
   },
   "outputs": [
    {
     "data": {
      "image/png": "[encoded data removed]",
      "text/plain": [
       "<Figure size 640x480 with 1 Axes>"
      ]
     },
     "metadata": {},
     "output_type": "display_data"
    }
   ],
   "source": [
    "plt.plot(bel, color='b')\n",
    "\n",
    "plt.xticks(range(0, len(bel)))\n",
    "plt.xlim([0, len(bel) - 1])\n",
    "plt.grid()\n",
    "plt.show()"
   ]
  },
  {
   "cell_type": "code",
   "execution_count": null,
   "id": "50eeacae-995d-4c5a-83d9-3c3a80c878fe",
   "metadata": {},
   "outputs": [],
   "source": []
  }
 ],
 "metadata": {
  "kernelspec": {
   "display_name": "Python 3 (ipykernel)",
   "language": "python",
   "name": "python3"
  },
  "language_info": {
   "codemirror_mode": {
    "name": "ipython",
    "version": 3
   },
   "file_extension": ".py",
   "mimetype": "text/x-python",
   "name": "python",
   "nbconvert_exporter": "python",
   "pygments_lexer": "ipython3",
   "version": "3.11.13"
  }
 },
 "nbformat": 4,
 "nbformat_minor": 5
}
